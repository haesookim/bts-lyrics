{
 "cells": [
  {
   "cell_type": "markdown",
   "metadata": {},
   "source": [
    "# Crawling BTS Lyrics"
   ]
  },
  {
   "cell_type": "code",
   "execution_count": 5,
   "metadata": {},
   "outputs": [],
   "source": [
    "from selenium import webdriver\n",
    "from bs4 import BeautifulSoup\n",
    "import requests\n",
    "import json\n",
    "import csv\n",
    "import re\n",
    "from time import sleep"
   ]
  },
  {
   "cell_type": "code",
   "execution_count": 6,
   "metadata": {},
   "outputs": [],
   "source": [
    "# use google chrome incognito mode for scraping\n",
    "option = webdriver.ChromeOptions()\n",
    "option.add_argument(\" - incognito\")\n",
    "\n",
    "header = {'User-Agent': ''}"
   ]
  },
  {
   "cell_type": "code",
   "execution_count": 7,
   "metadata": {},
   "outputs": [],
   "source": [
    "# open using chromeDriver\n",
    "browser = webdriver.Chrome(executable_path='/Library/Application Support/Google/chromedriver', chrome_options=option)\n",
    "browser.implicitly_wait(3)\n",
    "\n",
    "# This is the link to BTS's songs page on Melon\n",
    "browser.get(\"https://www.melon.com/artist/song.htm?artistId=672375\")"
   ]
  },
  {
   "cell_type": "code",
   "execution_count": 8,
   "metadata": {},
   "outputs": [],
   "source": [
    "# The average xpath for each lyric element looks something like this\n",
    "\n",
    "# //*[@id=\"frm\"]/div/table/tbody/tr[1]/td[3]/div/div/a[1]/span\n",
    "# //*[@id=\"frm\"]/div/table/tbody/tr[2]/td[3]/div/div/a[1]/span\n",
    "\n",
    "for page in range(1, 6):\n",
    "    result = list()\n",
    "    sleep(3)\n",
    "    for i in range(0, 50):\n",
    "        song_selector = '//*[@id=\"frm\"]/div/table/tbody/tr[' + str(i + 1) +']/td[3]/div/div/a[1]'\n",
    "\n",
    "        try:\n",
    "            song_item = browser.find_element_by_xpath(song_selector)\n",
    "        except:\n",
    "            print('end of songs')\n",
    "            break;\n",
    "\n",
    "        #clean values and get unique song_id\n",
    "        song_id = re.sub('[^0-9]', '', song_item.get_attribute(\"href\"))\n",
    "\n",
    "        # print(song_id)\n",
    "\n",
    "        req = requests.get('http://www.melon.com/song/lyrics.htm?songId=' + song_id, headers = header)\n",
    "        html = req.text\n",
    "        soup = BeautifulSoup(html, \"html.parser\")\n",
    "        \n",
    "        title = soup.find(attrs={\"class\": \"song_name\"}).text.replace('곡명', '').strip()\n",
    "\n",
    "        # collect genre to later filter japanese lyrics etc.\n",
    "        genre = soup.select('#downloadfrm > div > div > div.entry > div.meta > dl > dd')[2].text\n",
    "\n",
    "        if soup.find_all(attrs={\"class\": \"lyric\"}):\n",
    "            lyric = re.sub('<[^>]*>|\\s|\\[|\\]', ' ', str(soup.find_all(attrs={\"class\": \"lyric\"})[0]))\n",
    "            lyric = re.sub('^\\s*|\\s+$', '', lyric)\n",
    "        else: # print blank if no lyrics \n",
    "            lyric = ''\n",
    "\n",
    "        result.append({\n",
    "            'title': title,\n",
    "            'genre': genre,\n",
    "            'lyric': lyric\n",
    "        })\n",
    "\n",
    "    with open('./btslyrics.json', 'a+', encoding='utf-8') as file:\n",
    "        j = json.dumps(result, ensure_ascii=False)\n",
    "        file.write(j)\n",
    "            \n",
    "    button_selector = '//*[@id=\"pageObjNavgation\"]/div/span/a['+ str(page) +']'\n",
    "    button = browser.find_element_by_xpath(button_selector)\n",
    "    button.click()"
   ]
  },
  {
   "cell_type": "code",
   "execution_count": null,
   "metadata": {},
   "outputs": [],
   "source": []
  },
  {
   "cell_type": "code",
   "execution_count": null,
   "metadata": {},
   "outputs": [],
   "source": []
  }
 ],
 "metadata": {
  "kernelspec": {
   "display_name": "Python 3",
   "language": "python",
   "name": "python3"
  },
  "language_info": {
   "codemirror_mode": {
    "name": "ipython",
    "version": 3
   },
   "file_extension": ".py",
   "mimetype": "text/x-python",
   "name": "python",
   "nbconvert_exporter": "python",
   "pygments_lexer": "ipython3",
   "version": "3.6.1"
  }
 },
 "nbformat": 4,
 "nbformat_minor": 2
}
